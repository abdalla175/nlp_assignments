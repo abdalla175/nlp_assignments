{
  "cells": [
    {
      "cell_type": "code",
      "execution_count": 27,
      "metadata": {
        "colab": {
          "base_uri": "https://localhost:8080/"
        },
        "id": "hH36QHGWJNI4",
        "outputId": "cc86b027-c55d-4099-b408-96a73c69b693"
      },
      "outputs": [
        {
          "name": "stderr",
          "output_type": "stream",
          "text": [
            "[nltk_data] Downloading package punkt to /root/nltk_data...\n",
            "[nltk_data]   Package punkt is already up-to-date!\n",
            "[nltk_data] Downloading package stopwords to /root/nltk_data...\n",
            "[nltk_data]   Package stopwords is already up-to-date!\n",
            "[nltk_data] Downloading package wordnet to /root/nltk_data...\n",
            "[nltk_data]   Package wordnet is already up-to-date!\n"
          ]
        },
        {
          "data": {
            "text/plain": [
              "True"
            ]
          },
          "execution_count": 27,
          "metadata": {},
          "output_type": "execute_result"
        }
      ],
      "source": [
        "import requests\n",
        "from bs4 import BeautifulSoup\n",
        "import re\n",
        "import nltk\n",
        "from nltk.corpus import stopwords\n",
        "from nltk.tokenize import word_tokenize\n",
        "from nltk.stem import WordNetLemmatizer\n",
        "from sklearn.feature_extraction.text import TfidfVectorizer\n",
        "import numpy as np\n",
        "# Ensure necessary NLTK resources are available\n",
        "nltk.download('punkt')\n",
        "nltk.download('stopwords')\n",
        "nltk.download('wordnet')"
      ]
    },
    {
      "cell_type": "code",
      "execution_count": 28,
      "metadata": {
        "id": "ydlsjVClvDbu"
      },
      "outputs": [],
      "source": [
        "from sklearn.feature_extraction.text import TfidfVectorizer"
      ]
    },
    {
      "cell_type": "code",
      "execution_count": 29,
      "metadata": {
        "id": "w4yvG2sU0xZY"
      },
      "outputs": [],
      "source": [
        "# Preprocessing function\n",
        "def preprocess_document(document):\n",
        "    # Normalization\n",
        "    document = document.lower()\n",
        "    # Cleaning\n",
        "    document = re.sub(r'[^a-zA-Z\\s]', ' ', document)\n",
        "    # Tokenization\n",
        "    tokens = word_tokenize(document)\n",
        "    # Lemmatization\n",
        "    lemmatizer = WordNetLemmatizer()\n",
        "    lemmatized_tokens = [lemmatizer.lemmatize(token) for token in tokens]\n",
        "    # Remove stop words\n",
        "    stop_words = set(stopwords.words('english'))\n",
        "    tokens = [lemmatizer.lemmatize(word) for word in tokens]\n",
        "\n",
        "    filtered_tokens = [word for word in tokens if word not in stop_words]\n",
        "\n",
        "\n",
        "    return ' '.join(filtered_tokens)\n"
      ]
    },
    {
      "cell_type": "code",
      "execution_count": 30,
      "metadata": {
        "id": "-ugpL4KtJcK6"
      },
      "outputs": [],
      "source": [
        "def extract_and_process_url(url):\n",
        "    # Extract HTML from the URL\n",
        "    response = requests.get(url)\n",
        "    html_content = response.text\n",
        "\n",
        "    # Extract Text from HTML\n",
        "    soup = BeautifulSoup(html_content, 'html.parser')\n",
        "    text = ' '.join(soup.stripped_strings)\n",
        "\n",
        "    words = preprocess_document(text)\n",
        "\n",
        "    # Identify Unique Words\n",
        "    words = words.split()\n",
        "    unique_words = list(set(words))\n",
        "\n",
        "    return unique_words\n"
      ]
    },
    {
      "cell_type": "code",
      "execution_count": 31,
      "metadata": {
        "colab": {
          "base_uri": "https://localhost:8080/"
        },
        "id": "zem58KTJJcYN",
        "outputId": "6ccb717c-f439-4bad-911d-ae667d7f305e"
      },
      "outputs": [
        {
          "name": "stdout",
          "output_type": "stream",
          "text": [
            "['title', 'nominate', 'euskara', 'jones', 'item', 'present', 'wikifunctions', 'part', 'trademark', 'scottish', 'latvie', 'dark', 'neck', 'insect', 'civil', 'pdf', 'floating', 'south', 'philippine', 'encyclopedic', 'barstool', 'export', 'apply', 'academy', 'svenska', 'surface', 'volunteer', 'breast', 'magsaysay', 'wikipedia', 'lumber', 'plane', 'september', 'large', 'mollusc', 'mediawiki', 'manunggal', 'written', 'en', 'log', 'privacy', 'toggle', 'irish', 'photographed', 'host', 'kilometre', 'hrvatski', 'anniversary', 'john', 'honeyeater', 'tadpole', 'mount', 'award', 'destruction', 'donnell', 'cup', 'dragon', 'christianity', 'led', 'display', 'holiday', 'statistic', 'kosovo', 'sloven', 'palomena', 'library', 'eurasia', 'found', 'small', 'surgeon', 'africa', 'toriyama', 'srpski', 'printable', 'index', 'occurring', 'sharealike', 'bokm', 'change', 'cooked', 'help', 'hamas', 'b', 'nymphal', 'short', 'dave', 'white', 'credit', 'language', 'portugal', 'development', 'url', 'http', 'podiceps', 'inari', 'coolidge', 'yellow', 'make', 'habitat', 'wife', 'nynorsk', 'broader', 'member', 'dedicated', 'anyone', 'eye', 'online', 'two', 'kue', 'gold', 'oldid', 'taisha', 'american', 'grant', 'moult', 'attack', 'textbook', 'new', 'rolex', 'specie', 'dy', 'wounding', 'oppenheimer', 'attempt', 'site', 'shrine', 'largest', 'foliage', 'chestnut', 'snap', 'refurbishing', 'base', 'ti', 'espa', 'scotland', 'show', 'organization', 'tunnel', 'additional', 'cumnor', 'available', 'u', 'season', 'qr', 'abandonment', 'region', 'schleswig', 'beer', 'tool', 'eesti', 'mystic', 'content', 'lewis', 'profit', 'memorializing', 'siege', 'ongoing', 'van', 'edvard', 'thousand', 'listed', 'promotional', 'special', 'zbekcha', 'know', 'simple', 'democratic', 'become', 'fran', 'multilingual', 'fleet', 'chien', 'broke', 'pattie', 'year', 'issue', 'upload', 'behind', 'height', 'wa', 'leading', 'editor', 'hill', 'blockade', 'myanmar', 'general', 'recent', 'norsk', 'create', 'move', 'rk', 'boston', 'php', 'black', 'imago', 'unrest', 'pump', 'school', 'utc', 'spent', 'rom', 'invasion', 'wikimania', 'shqip', 'welcome', 'area', 'teahouse', 'portugu', 'quotation', 'disclaimer', 'left', 'desk', 'dive', 'many', 'wikivoyage', 'final', 'commenced', 'hub', 'italy', 'asturianu', 'conservative', 'dux', 'catal', 'esperanto', 'boyd', 'america', 'chemotherapy', 'parent', 'society', 'resulting', 'live', 'outreach', 'main', 'basic', 'danish', 'sponsored', 'orthodox', 'bug', 'repository', 'greyish', 'photograph', 'xiuwen', 'golden', 'news', 'technical', 'unique', 'high', 'seat', 'ol', 'list', 'film', 'inspired', 'philadelphia', 'related', 'menno', 'light', 'inc', 'england', 'sister', 'ina', 'demonic', 'account', 'learn', 'shu', 'way', 'making', 'retrieved', 'fish', 'italiano', 'deutsch', 'crustacean', 'donate', 'action', 'monument', 'last', 'grebe', 'leader', 'war', 'prussian', 'cheeked', 'permanent', 'great', 'abandoned', 'different', 'occasionally', 'presence', 'incubation', 'stand', 'timeline', 'article', 'full', 'calvin', 'magyar', 'english', 'org', 'conduct', 'suomi', 'lietuvi', 'question', 'created', 'israel', 'nato', 'cookie', 'course', 'edited', 'period', 'wikispecies', 'code', 'edit', 'killed', 'logged', 'file', 'tina', 'topic', 'world', 'watch', 'age', 'wearing', 'kim', 'second', 'still', 'chef', 'leeds', 'search', 'wikisource', 'agree', 'using', 'picture', 'may', 'tan', 'project', 'red', 'ng', 'tall', 'roughly', 'charles', 'horse', 'collapsed', 'slope', 'ft', 'killing', 'europe', 'navigation', 'indian', 'version', 'mi', 'ancient', 'contribute', 'lu', 'current', 'wallinger', 'developer', 'history', 'raised', 'bright', 'portal', 'wing', 'penmanshiel', 'worker', 'drama', 'variety', 'ai', 'contact', 'download', 'oxfordshire', 'time', 'start', 'l', 'christmas', 'sea', 'green', 'manual', 'learning', 'akira', 'get', 'saint', 'japanese', 'bird', 'pentatomidae', 'independent', 'text', 'talk', 'village', 'meta', 'audience', 'ritchie', 'social', 'print', 'community', 'tawny', 'glasgow', 'email', 'eduard', 'gaeilge', 'flank', 'sculptural', 'november', 'bombing', 'resource', 'read', 'water', 'border', 'athletics', 'shortened', 'j', 'knowledge', 'stage', 'department', 'bangkok', 'choice', 'travel', 'singer', 'shield', 'term', 'rufous', 'wikidata', 'legislative', 'wagon', 'calendar', 'editing', 'event', 'metre', 'ramon', 'wikiversity', 'jamie', 'majella', 'egg', 'dockum', 'recently', 'bahasa', 'g', 'foundation', 'store', 'day', 'open', 'also', 'registered', 'page', 'tung', 'forest', 'serb', 'several', 'limited', 'brown', 'kalven', 'construction', 'hatch', 'commonly', 'pause', 'shave', 'catch', 'death', 'sidebar', 'discussion', 'colouration', 'statement', 'bosanski', 'creative', 'arguing', 'central', 'crash', 'jocelin', 'receive', 'including', 'four', 'width', 'thesaurus', 'became', 'russian', 'wikinews', 'church', 'head', 'nigricollis', 'woodland', 'cleveland', 'wikiquote', 'garden', 'galego', 'mobile', 'medal', 'frysk', 'seven', 'revolutionary', 'best', 'ming', 'nest', 'home', 'becomes', 'charlie', 'patrick', 'manga', 'srpskohrvatski', 'far', 'montenegro', 'range', 'president', 'archive', 'canal', 'hide', 'wikibooks', 'research', 'dansk', 'cite', 'sharp', 'whether', 'barnett', 'software', 'use', 'medium', 'wikipedias', 'ha', 'dakota', 'three', 'throughout', 'melayu', 'von', 'usually', 'state', 'frog', 'family', 'coordination', 'dictionary', 'policy', 'encyclopedia', 'thirty', 'indonesia', 'britain', 'flight', 'forum', 'necked', 'source', 'divide', 'election', 'ukraine', 'abdomen', 'crisis', 'view', 'brood', 'polski', 'breeding', 'contribution', 'announcement', 'end', 'nederland', 'feather', 'hibernation', 'random', 'artist', 'pictured', 'sweden', 'movement', 'coehoorn', 'march', 'alliance', 'ireland', 'maroon', 'late', 'lake', 'author', 'unification', 'reference', 'jachmann', 'singaporean', 'ball', 'e', 'attribution', 'turn', 'wiktionary', 'prasina', 'th', 'kurd', 'hosted', 'blair', 'win', 'menu', 'ask', 'migration', 'license', 'squadron', 'cancer', 'others', 'karl', 'fushimi', 'free', 'restaurateur', 'non', 'n', 'guide', 'chick', 'information', 'vi', 'wikimedia', 'child', 'personal', 'task', 'gaza', 'w', 'link', 'navigate', 'collection', 'wiki', 'directory', 'featured', 'common', 'today', 'dorchester', 'jump', 'reached']\n",
            "Number of unique words: 608\n"
          ]
        }
      ],
      "source": [
        "# Example usage\n",
        "url = 'https://en.wikipedia.org/wiki/Main_Page'\n",
        "unique_words = extract_and_process_url(url)\n",
        "print(unique_words)\n",
        "print(f'Number of unique words: {len(unique_words)}')\n",
        "# Optionally, print the unique words or write them to a file"
      ]
    },
    {
      "cell_type": "code",
      "execution_count": 32,
      "metadata": {
        "colab": {
          "base_uri": "https://localhost:8080/"
        },
        "id": "MV3UVVGqJcim",
        "outputId": "2a7920b1-0cbd-4298-961a-e3fba85a94b6"
      },
      "outputs": [
        {
          "data": {
            "text/plain": [
              "array([['title', 'nominate', 'euskara', 'jones', 'item', 'present',\n",
              "        'wikifunctions', 'part', 'trademark', 'scottish', 'latvie',\n",
              "        'dark', 'neck', 'insect', 'civil', 'pdf', 'floating', 'south',\n",
              "        'philippine', 'encyclopedic', 'barstool', 'export', 'apply',\n",
              "        'academy', 'svenska', 'surface', 'volunteer', 'breast',\n",
              "        'magsaysay', 'wikipedia', 'lumber', 'plane', 'september',\n",
              "        'large', 'mollusc', 'mediawiki', 'manunggal', 'written', 'en',\n",
              "        'log', 'privacy', 'toggle', 'irish', 'photographed', 'host',\n",
              "        'kilometre', 'hrvatski', 'anniversary', 'john', 'honeyeater',\n",
              "        'tadpole', 'mount', 'award', 'destruction', 'donnell', 'cup',\n",
              "        'dragon', 'christianity', 'led', 'display', 'holiday',\n",
              "        'statistic', 'kosovo', 'sloven', 'palomena', 'library',\n",
              "        'eurasia', 'found', 'small', 'surgeon', 'africa', 'toriyama',\n",
              "        'srpski', 'printable', 'index', 'occurring', 'sharealike',\n",
              "        'bokm', 'change', 'cooked', 'help', 'hamas', 'b', 'nymphal',\n",
              "        'short', 'dave', 'white', 'credit', 'language', 'portugal',\n",
              "        'development', 'url', 'http', 'podiceps', 'inari', 'coolidge',\n",
              "        'yellow', 'make', 'habitat', 'wife', 'nynorsk', 'broader',\n",
              "        'member', 'dedicated', 'anyone', 'eye', 'online', 'two', 'kue',\n",
              "        'gold', 'oldid', 'taisha', 'american', 'grant', 'moult',\n",
              "        'attack', 'textbook', 'new', 'rolex', 'specie', 'dy', 'wounding',\n",
              "        'oppenheimer', 'attempt', 'site', 'shrine', 'largest', 'foliage',\n",
              "        'chestnut', 'snap', 'refurbishing', 'base', 'ti', 'espa',\n",
              "        'scotland', 'show', 'organization', 'tunnel', 'additional',\n",
              "        'cumnor', 'available', 'u', 'season', 'qr', 'abandonment',\n",
              "        'region', 'schleswig', 'beer', 'tool', 'eesti', 'mystic',\n",
              "        'content', 'lewis', 'profit', 'memorializing', 'siege',\n",
              "        'ongoing', 'van', 'edvard', 'thousand', 'listed', 'promotional',\n",
              "        'special', 'zbekcha', 'know', 'simple', 'democratic', 'become',\n",
              "        'fran', 'multilingual', 'fleet', 'chien', 'broke', 'pattie',\n",
              "        'year', 'issue', 'upload', 'behind', 'height', 'wa', 'leading',\n",
              "        'editor', 'hill', 'blockade', 'myanmar', 'general', 'recent',\n",
              "        'norsk', 'create', 'move', 'rk', 'boston', 'php', 'black',\n",
              "        'imago', 'unrest', 'pump', 'school', 'utc', 'spent', 'rom',\n",
              "        'invasion', 'wikimania', 'shqip', 'welcome', 'area', 'teahouse',\n",
              "        'portugu', 'quotation', 'disclaimer', 'left', 'desk', 'dive',\n",
              "        'many', 'wikivoyage', 'final', 'commenced', 'hub', 'italy',\n",
              "        'asturianu', 'conservative', 'dux', 'catal', 'esperanto', 'boyd',\n",
              "        'america', 'chemotherapy', 'parent', 'society', 'resulting',\n",
              "        'live', 'outreach', 'main', 'basic', 'danish', 'sponsored',\n",
              "        'orthodox', 'bug', 'repository', 'greyish', 'photograph',\n",
              "        'xiuwen', 'golden', 'news', 'technical', 'unique', 'high',\n",
              "        'seat', 'ol', 'list', 'film', 'inspired', 'philadelphia',\n",
              "        'related', 'menno', 'light', 'inc', 'england', 'sister', 'ina',\n",
              "        'demonic', 'account', 'learn', 'shu', 'way', 'making',\n",
              "        'retrieved', 'fish', 'italiano', 'deutsch', 'crustacean',\n",
              "        'donate', 'action', 'monument', 'last', 'grebe', 'leader', 'war',\n",
              "        'prussian', 'cheeked', 'permanent', 'great', 'abandoned',\n",
              "        'different', 'occasionally', 'presence', 'incubation', 'stand',\n",
              "        'timeline', 'article', 'full', 'calvin', 'magyar', 'english',\n",
              "        'org', 'conduct', 'suomi', 'lietuvi', 'question', 'created',\n",
              "        'israel', 'nato', 'cookie', 'course', 'edited', 'period',\n",
              "        'wikispecies', 'code', 'edit', 'killed', 'logged', 'file',\n",
              "        'tina', 'topic', 'world', 'watch', 'age', 'wearing', 'kim',\n",
              "        'second', 'still', 'chef', 'leeds', 'search', 'wikisource',\n",
              "        'agree', 'using', 'picture', 'may', 'tan', 'project', 'red',\n",
              "        'ng', 'tall', 'roughly', 'charles', 'horse', 'collapsed',\n",
              "        'slope', 'ft', 'killing', 'europe', 'navigation', 'indian',\n",
              "        'version', 'mi', 'ancient', 'contribute', 'lu', 'current',\n",
              "        'wallinger', 'developer', 'history', 'raised', 'bright',\n",
              "        'portal', 'wing', 'penmanshiel', 'worker', 'drama', 'variety',\n",
              "        'ai', 'contact', 'download', 'oxfordshire', 'time', 'start', 'l',\n",
              "        'christmas', 'sea', 'green', 'manual', 'learning', 'akira',\n",
              "        'get', 'saint', 'japanese', 'bird', 'pentatomidae',\n",
              "        'independent', 'text', 'talk', 'village', 'meta', 'audience',\n",
              "        'ritchie', 'social', 'print', 'community', 'tawny', 'glasgow',\n",
              "        'email', 'eduard', 'gaeilge', 'flank', 'sculptural', 'november',\n",
              "        'bombing', 'resource', 'read', 'water', 'border', 'athletics',\n",
              "        'shortened', 'j', 'knowledge', 'stage', 'department', 'bangkok',\n",
              "        'choice', 'travel', 'singer', 'shield', 'term', 'rufous',\n",
              "        'wikidata', 'legislative', 'wagon', 'calendar', 'editing',\n",
              "        'event', 'metre', 'ramon', 'wikiversity', 'jamie', 'majella',\n",
              "        'egg', 'dockum', 'recently', 'bahasa', 'g', 'foundation',\n",
              "        'store', 'day', 'open', 'also', 'registered', 'page', 'tung',\n",
              "        'forest', 'serb', 'several', 'limited', 'brown', 'kalven',\n",
              "        'construction', 'hatch', 'commonly', 'pause', 'shave', 'catch',\n",
              "        'death', 'sidebar', 'discussion', 'colouration', 'statement',\n",
              "        'bosanski', 'creative', 'arguing', 'central', 'crash', 'jocelin',\n",
              "        'receive', 'including', 'four', 'width', 'thesaurus', 'became',\n",
              "        'russian', 'wikinews', 'church', 'head', 'nigricollis',\n",
              "        'woodland', 'cleveland', 'wikiquote', 'garden', 'galego',\n",
              "        'mobile', 'medal', 'frysk', 'seven', 'revolutionary', 'best',\n",
              "        'ming', 'nest', 'home', 'becomes', 'charlie', 'patrick', 'manga',\n",
              "        'srpskohrvatski', 'far', 'montenegro', 'range', 'president',\n",
              "        'archive', 'canal', 'hide', 'wikibooks', 'research', 'dansk',\n",
              "        'cite', 'sharp', 'whether', 'barnett', 'software', 'use',\n",
              "        'medium', 'wikipedias', 'ha', 'dakota', 'three', 'throughout',\n",
              "        'melayu', 'von', 'usually', 'state', 'frog', 'family',\n",
              "        'coordination', 'dictionary', 'policy', 'encyclopedia', 'thirty',\n",
              "        'indonesia', 'britain', 'flight', 'forum', 'necked', 'source',\n",
              "        'divide', 'election', 'ukraine', 'abdomen', 'crisis', 'view',\n",
              "        'brood', 'polski', 'breeding', 'contribution', 'announcement',\n",
              "        'end', 'nederland', 'feather', 'hibernation', 'random', 'artist',\n",
              "        'pictured', 'sweden', 'movement', 'coehoorn', 'march',\n",
              "        'alliance', 'ireland', 'maroon', 'late', 'lake', 'author',\n",
              "        'unification', 'reference', 'jachmann', 'singaporean', 'ball',\n",
              "        'e', 'attribution', 'turn', 'wiktionary', 'prasina', 'th',\n",
              "        'kurd', 'hosted', 'blair', 'win', 'menu', 'ask', 'migration',\n",
              "        'license', 'squadron', 'cancer', 'others', 'karl', 'fushimi',\n",
              "        'free', 'restaurateur', 'non', 'n', 'guide', 'chick',\n",
              "        'information', 'vi', 'wikimedia', 'child', 'personal', 'task',\n",
              "        'gaza', 'w', 'link', 'navigate', 'collection', 'wiki',\n",
              "        'directory', 'featured', 'common', 'today', 'dorchester', 'jump',\n",
              "        'reached']], dtype='<U14')"
            ]
          },
          "execution_count": 32,
          "metadata": {},
          "output_type": "execute_result"
        }
      ],
      "source": [
        "np.array(unique_words).reshape(1,-1)"
      ]
    },
    {
      "cell_type": "code",
      "execution_count": 35,
      "metadata": {
        "colab": {
          "base_uri": "https://localhost:8080/"
        },
        "id": "zf1roYkeOvD6",
        "outputId": "5e61be9d-bb07-47cf-c0cb-da80bede6310"
      },
      "outputs": [
        {
          "name": "stdout",
          "output_type": "stream",
          "text": [
            "pdf\n",
            "en\n",
            "log\n",
            "cup\n",
            "led\n",
            "b\n",
            "url\n",
            "eye\n",
            "two\n",
            "kue\n",
            "new\n",
            "dy\n",
            "ti\n",
            "u\n",
            "qr\n",
            "van\n",
            "wa\n",
            "rk\n",
            "php\n",
            "utc\n",
            "rom\n",
            "hub\n",
            "dux\n",
            "bug\n",
            "ol\n",
            "inc\n",
            "ina\n",
            "shu\n",
            "way\n",
            "war\n",
            "org\n",
            "age\n",
            "kim\n",
            "may\n",
            "tan\n",
            "red\n",
            "ng\n",
            "ft\n",
            "mi\n",
            "lu\n",
            "ai\n",
            "l\n",
            "sea\n",
            "get\n",
            "j\n",
            "egg\n",
            "g\n",
            "day\n",
            "far\n",
            "use\n",
            "ha\n",
            "von\n",
            "end\n",
            "e\n",
            "th\n",
            "win\n",
            "ask\n",
            "non\n",
            "n\n",
            "vi\n",
            "w\n",
            "number of words less than 3 characters: 61\n"
          ]
        }
      ],
      "source": [
        "c=0\n",
        "for w in unique_words:\n",
        "  if(len(w)<4):\n",
        "    c+=1\n",
        "    print(w)\n",
        "\n",
        "print(\"number of words less than 3 characters:\",c)"
      ]
    }
  ],
  "metadata": {
    "colab": {
      "provenance": []
    },
    "kernelspec": {
      "display_name": "Python 3",
      "name": "python3"
    },
    "language_info": {
      "name": "python"
    }
  },
  "nbformat": 4,
  "nbformat_minor": 0
}
